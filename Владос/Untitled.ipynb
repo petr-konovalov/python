{
 "cells": [
  {
   "cell_type": "code",
   "execution_count": 18,
   "metadata": {},
   "outputs": [
    {
     "name": "stdout",
     "output_type": "stream",
     "text": [
      "3\n",
      "10\n",
      "-5\n",
      "-5\n",
      "5\n",
      "-2\n",
      "-3\n"
     ]
    }
   ],
   "source": [
    "b = 0.5\n",
    "for ch in [int(input()) / 2 for k in range(0, int(input()))]:\n",
    "    print(int(ch) if int(ch) == ch  else int(ch + b))\n",
    "    b = b if int(ch) == ch else -b"
   ]
  }
 ],
 "metadata": {
  "kernelspec": {
   "display_name": "Python 3",
   "language": "python",
   "name": "python3"
  },
  "language_info": {
   "codemirror_mode": {
    "name": "ipython",
    "version": 3
   },
   "file_extension": ".py",
   "mimetype": "text/x-python",
   "name": "python",
   "nbconvert_exporter": "python",
   "pygments_lexer": "ipython3",
   "version": "3.7.3"
  }
 },
 "nbformat": 4,
 "nbformat_minor": 2
}
