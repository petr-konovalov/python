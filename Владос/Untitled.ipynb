{
 "cells": [
  {
   "cell_type": "code",
   "execution_count": 18,
   "metadata": {},
   "outputs": [
    {
     "name": "stdout",
     "output_type": "stream",
     "text": [
      "3\n",
      "10\n",
      "-5\n",
      "-5\n",
      "5\n",
      "-2\n",
      "-3\n"
     ]
    }
   ],
   "source": [
    "b = 0.5\n",
    "for ch in [int(input()) / 2 for k in range(0, int(input()))]:\n",
    "    print(int(ch) if int(ch) == ch  else int(ch + b))\n",
    "    b = b if int(ch) == ch else -b"
   ]
  },
  {
   "cell_type": "code",
   "execution_count": 31,
   "metadata": {},
   "outputs": [
    {
     "data": {
      "text/plain": [
       "7"
      ]
     },
     "execution_count": 31,
     "metadata": {},
     "output_type": "execute_result"
    }
   ],
   "source": [
    "arr = [1, 3, 3, 4, 5, 5, 5, 5]\n",
    "\n",
    "def binsearch(arr, value):\n",
    "    l = 0\n",
    "    r = len(arr)\n",
    "    while r - l > 1:\n",
    "        mid = (l + r) // 2;\n",
    "        if (arr[mid] < value):\n",
    "            l = mid\n",
    "        else:\n",
    "            r = mid\n",
    "        \n",
    "    return l\n",
    "\n",
    "binsearch(arr, 6)"
   ]
  },
  {
   "cell_type": "code",
   "execution_count": 27,
   "metadata": {},
   "outputs": [
    {
     "name": "stdout",
     "output_type": "stream",
     "text": [
      "9\n",
      "9\n",
      "None\n",
      "29\n",
      "None\n"
     ]
    }
   ],
   "source": [
    "def Sum(x, y):\n",
    "    return x + y\n",
    "\n",
    "def SumPrint(x, y):\n",
    "    print(x + y)\n",
    "\n",
    "def Sum3(x, y):\n",
    "    return x + y\n",
    "\n",
    "z = Sum(2, 7)\n",
    "print(z)\n",
    "z = SumPrint(2, 7)\n",
    "print(z)\n",
    "Sum3(12, 17)\n",
    "print(z)"
   ]
  },
  {
   "cell_type": "code",
   "execution_count": 2,
   "metadata": {},
   "outputs": [
    {
     "name": "stdout",
     "output_type": "stream",
     "text": [
      "6\n",
      "1 1 1\n",
      "1\n",
      "1 2 1\n",
      "2\n",
      "4 1 1\n",
      "2\n",
      "8 2 8\n",
      "9\n",
      "9 9 10\n",
      "14\n",
      "8 1 4\n",
      "5\n"
     ]
    }
   ],
   "source": [
    "testCount = int(input())\n",
    "for testNumber in range(0, testCount):\n",
    "    inp = [int(j) for j in input().split()]\n",
    "    inp.sort()\n",
    "    if inp[2] >= inp[0] + inp[1]:\n",
    "        print(inp[0] + inp[1])\n",
    "    else:\n",
    "        print((inp[0] + inp[1] + inp[2]) // 2)"
   ]
  }
 ],
 "metadata": {
  "kernelspec": {
   "display_name": "Python 3",
   "language": "python",
   "name": "python3"
  },
  "language_info": {
   "codemirror_mode": {
    "name": "ipython",
    "version": 3
   },
   "file_extension": ".py",
   "mimetype": "text/x-python",
   "name": "python",
   "nbconvert_exporter": "python",
   "pygments_lexer": "ipython3",
   "version": "3.7.3"
  }
 },
 "nbformat": 4,
 "nbformat_minor": 2
}
