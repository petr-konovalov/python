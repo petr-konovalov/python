{
 "cells": [
  {
   "cell_type": "code",
   "execution_count": 183,
   "metadata": {},
   "outputs": [
    {
     "name": "stdout",
     "output_type": "stream",
     "text": [
      "891\n",
      "[867 206 701 118 400  73   8 740 743 411]\n",
      "     PassengerId  Survived  Pclass  \\\n",
      "624          625         0       3   \n",
      "670          671         1       2   \n",
      "720          721         1       2   \n",
      "519          520         0       3   \n",
      "204          205         1       3   \n",
      "113          114         0       3   \n",
      "437          438         1       2   \n",
      "80            81         0       3   \n",
      "27            28         0       1   \n",
      "44            45         1       3   \n",
      "\n",
      "                                                  Name     Sex   Age  SibSp  \\\n",
      "624                        Bowen, Mr. David John \"Dai\"    male  21.0      0   \n",
      "670  Brown, Mrs. Thomas William Solomon (Elizabeth ...  female  40.0      1   \n",
      "720                  Harper, Miss. Annie Jessie \"Nina\"  female   6.0      0   \n",
      "519                                Pavlovic, Mr. Stefo    male  32.0      0   \n",
      "204                           Cohen, Mr. Gurshon \"Gus\"    male  18.0      0   \n",
      "113                            Jussila, Miss. Katriina  female  20.0      1   \n",
      "437              Richards, Mrs. Sidney (Emily Hocking)  female  24.0      2   \n",
      "80                                Waelens, Mr. Achille    male  22.0      0   \n",
      "27                      Fortune, Mr. Charles Alexander    male  19.0      3   \n",
      "44                       Devaney, Miss. Margaret Delia  female  19.0      0   \n",
      "\n",
      "     Parch    Ticket      Fare        Cabin Embarked  \n",
      "624      0     54636   16.1000          NaN        S  \n",
      "670      1     29750   39.0000          NaN        S  \n",
      "720      1    248727   33.0000          NaN        S  \n",
      "519      0    349242    7.8958          NaN        S  \n",
      "204      0  A/5 3540    8.0500          NaN        S  \n",
      "113      0      4136    9.8250          NaN        S  \n",
      "437      3     29106   18.7500          NaN        S  \n",
      "80       0    345767    9.0000          NaN        S  \n",
      "27       2     19950  263.0000  C23 C25 C27        S  \n",
      "44       0    330958    7.8792          NaN        Q  \n"
     ]
    }
   ],
   "source": [
    "import numpy as np\n",
    "import pandas as pd\n",
    "np.random.seed(5)\n",
    "titanic_bf = pd.read_csv('./titanic/train.csv')\n",
    "print(len(titanic_bf.index))\n",
    "col = np.random.randint(0, len(titanic_bf.index), 10);\n",
    "print(col);\n",
    "titanic_bf_part = titanic_bf.iloc[np.random.randint(0, len(titanic_bf.index), 10)]\n",
    "print(titanic_bf_part)\n",
    "print(titanic_bf.head())\n",
    "#print(titanic_bf_part)\n",
    "#print(titanic_bf_part.groupby(['Sex', 'Survived']).mean())"
   ]
  },
  {
   "cell_type": "code",
   "execution_count": 171,
   "metadata": {},
   "outputs": [],
   "source": [
    "len?"
   ]
  }
 ],
 "metadata": {
  "kernelspec": {
   "display_name": "Python 3",
   "language": "python",
   "name": "python3"
  },
  "language_info": {
   "codemirror_mode": {
    "name": "ipython",
    "version": 3
   },
   "file_extension": ".py",
   "mimetype": "text/x-python",
   "name": "python",
   "nbconvert_exporter": "python",
   "pygments_lexer": "ipython3",
   "version": "3.7.3"
  }
 },
 "nbformat": 4,
 "nbformat_minor": 2
}
