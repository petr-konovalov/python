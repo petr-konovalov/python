{
 "cells": [
  {
   "cell_type": "code",
   "execution_count": 5,
   "metadata": {},
   "outputs": [
    {
     "name": "stdout",
     "output_type": "stream",
     "text": [
      "4835.082741143891\n"
     ]
    }
   ],
   "source": [
    "import math\n",
    "def f(u, v):\n",
    "    return 1000 * u + 2000/u**0.5 * (math.e/v + math.log(v))\n",
    "\n",
    "ans = 100500\n",
    "for j in range(1, 16):\n",
    "    for k in range(2, 4):\n",
    "        ans = min(ans, f(j, k))\n",
    "print(ans)"
   ]
  }
 ],
 "metadata": {
  "kernelspec": {
   "display_name": "Python 3",
   "language": "python",
   "name": "python3"
  },
  "language_info": {
   "codemirror_mode": {
    "name": "ipython",
    "version": 3
   },
   "file_extension": ".py",
   "mimetype": "text/x-python",
   "name": "python",
   "nbconvert_exporter": "python",
   "pygments_lexer": "ipython3",
   "version": "3.7.3"
  }
 },
 "nbformat": 4,
 "nbformat_minor": 2
}
