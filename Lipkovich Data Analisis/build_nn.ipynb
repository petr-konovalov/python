{
 "cells": [
  {
   "cell_type": "markdown",
   "metadata": {
    "colab_type": "text",
    "id": "21KlYRIeCeME"
   },
   "source": [
    "# Planar data classification with one hidden layer\n",
    "\n",
    "It's time to build your first neural network, which will have a hidden layer. You will see a big difference between this model and the one you implemented using logistic regression. \n",
    "\n",
    "**You will learn how to:**\n",
    "- Implement a 2-class classification neural network with a single hidden layer\n",
    "- Use units with a non-linear activation function, such as tanh \n",
    "- Compute the cross entropy loss \n",
    "- Implement forward and backward propagation\n"
   ]
  },
  {
   "cell_type": "markdown",
   "metadata": {
    "colab_type": "text",
    "id": "o9tvs1pkOlrd"
   },
   "source": [
    "https://matrices.io/deep-neural-network-from-scratch/"
   ]
  },
  {
   "cell_type": "markdown",
   "metadata": {
    "colab_type": "text",
    "id": "dFVAfRmyCeMK"
   },
   "source": [
    "## 1 - Packages ##\n",
    "\n",
    "Let's first import all the packages that you will need during this assignment.\n",
    "- [numpy](www.numpy.org) is the fundamental package for scientific computing with Python.\n",
    "- [sklearn](http://scikit-learn.org/stable/) provides simple and efficient tools for data mining and data analysis. \n",
    "- [matplotlib](http://matplotlib.org) is a library for plotting graphs in Python.\n",
    "- testCases provides some test examples to assess the correctness of your functions\n",
    "- planar_utils provide various useful functions used in this assignment"
   ]
  },
  {
   "cell_type": "code",
   "execution_count": 153,
   "metadata": {
    "colab": {
     "autoexec": {
      "startup": false,
      "wait_interval": 0
     }
    },
    "colab_type": "code",
    "id": "lP-4EwPTCeMM"
   },
   "outputs": [],
   "source": [
    "# Package imports\n",
    "import numpy as np\n",
    "import matplotlib.pyplot as plt\n",
    "from testCases import *\n",
    "import sklearn\n",
    "import sklearn.datasets\n",
    "import sklearn.linear_model\n",
    "from planar_utils import plot_decision_boundary, sigmoid, load_planar_dataset, load_extra_datasets\n",
    "\n",
    "%matplotlib inline\n",
    "\n",
    "np.random.seed(1) # set a seed so that the results are consistent"
   ]
  },
  {
   "cell_type": "markdown",
   "metadata": {
    "colab_type": "text",
    "id": "AC6d9JTICeMc"
   },
   "source": [
    "## 2 - Dataset ##\n",
    "\n",
    "First, let's get the dataset you will work on. The following code will load a \"flower\" 2-class dataset into variables `X` and `Y`."
   ]
  },
  {
   "cell_type": "code",
   "execution_count": 154,
   "metadata": {
    "colab": {
     "autoexec": {
      "startup": false,
      "wait_interval": 0
     }
    },
    "colab_type": "code",
    "id": "szr2uT3aCeMe"
   },
   "outputs": [
    {
     "data": {
      "text/plain": [
       "array([[ 1.20444229e+00,  1.58709904e-01,  9.52471960e-02,\n",
       "         3.49178475e-01,  6.94150378e-01,  1.62065038e+00,\n",
       "         1.53856225e+00,  3.63085641e-02,  4.74591109e-01,\n",
       "         1.65695828e-01,  1.66446249e+00,  8.40285720e-01,\n",
       "         2.61695163e-01,  2.31614896e-01,  1.58013020e+00,\n",
       "         6.35509950e-03,  6.80610419e-01,  1.21400432e-01,\n",
       "         1.13281261e+00,  1.61505892e+00,  1.66454441e-01,\n",
       "         1.72438241e+00,  1.88667246e+00,  1.72327227e+00,\n",
       "         1.54661332e+00,  9.84590400e-01,  1.45313345e+00,\n",
       "         7.49043388e-01,  1.45048341e+00,  1.64287865e+00,\n",
       "         1.28141487e+00,  1.59574104e+00,  1.46298294e+00,\n",
       "         1.46629048e+00,  1.54348961e+00,  1.57013416e+00,\n",
       "         1.22995404e+00,  1.31142345e+00, -1.99364553e+00,\n",
       "         3.94564752e-01,  1.51715449e+00,  1.69169139e+00,\n",
       "         1.74186686e+00, -2.91373382e+00,  7.52150898e-01,\n",
       "         1.68537303e+00,  3.71160238e-01, -3.73033884e+00,\n",
       "         3.52484080e-01, -1.48694206e+00, -7.45290416e-01,\n",
       "         5.63807442e-01,  1.27093179e+00,  5.35133607e-01,\n",
       "        -1.71330375e-01, -2.50197293e+00, -2.63275448e+00,\n",
       "        -3.15561550e+00, -2.11022490e+00, -3.51303563e+00,\n",
       "        -3.52018155e-02, -3.99843114e+00, -3.08095445e+00,\n",
       "        -1.79023024e+00, -3.37520544e+00, -2.38578575e+00,\n",
       "        -3.54741267e+00, -2.92344384e+00, -1.01009705e+00,\n",
       "        -3.02185838e-01, -1.47947199e-01, -2.41113498e+00,\n",
       "        -3.52065970e+00, -3.09762480e+00, -3.86453574e+00,\n",
       "         3.46287902e-02, -3.81297733e+00, -2.54941164e+00,\n",
       "        -3.61833546e+00, -2.31720968e+00, -3.85843301e+00,\n",
       "        -3.77182528e+00, -3.22643424e+00, -2.49748107e+00,\n",
       "        -2.94157976e+00, -2.91391859e+00, -3.70623964e+00,\n",
       "        -1.95265709e+00, -2.66020434e+00,  8.17304141e-01,\n",
       "         1.21768512e+00, -1.66246175e+00, -2.75111411e+00,\n",
       "        -3.31873701e+00, -2.14063182e-01, -1.09902222e+00,\n",
       "        -1.94767785e+00, -4.99991014e-01, -2.52618507e+00,\n",
       "         1.96360773e+00, -1.02715843e+00,  3.03248341e+00,\n",
       "         1.51559027e+00,  2.21864283e+00, -2.40385821e+00,\n",
       "         2.00630521e+00,  3.17911628e+00, -1.45188351e+00,\n",
       "         1.21496393e+00,  2.04613301e+00, -1.62182614e+00,\n",
       "         3.17993200e+00,  3.96799188e+00,  3.29897728e-01,\n",
       "         4.07816588e+00, -3.17566012e-01,  3.31129113e+00,\n",
       "        -9.52809386e-01,  3.03768998e+00,  3.55052992e+00,\n",
       "         3.55990775e+00,  2.33663285e+00,  2.31352433e+00,\n",
       "         2.79495212e-01,  1.51862547e-01,  1.96155941e+00,\n",
       "         5.47353260e-01,  3.49044034e+00,  2.72566042e+00,\n",
       "         2.13606508e+00,  3.67042248e+00,  3.92260947e+00,\n",
       "         3.08862031e+00,  1.92948433e+00,  1.38946995e+00,\n",
       "         3.51428218e+00,  1.13035696e+00,  3.33545460e+00,\n",
       "         9.15905230e-03,  1.68097254e+00,  2.30710971e+00,\n",
       "         2.21404832e+00, -5.31842726e-01, -3.45874829e-01,\n",
       "        -9.83826601e-02,  6.55029428e-01,  5.83612433e-01,\n",
       "        -7.68172854e-01, -5.52725703e-02, -1.25961956e+00,\n",
       "         9.42805936e-01,  3.77681531e+00, -1.70922458e+00,\n",
       "        -1.08169517e+00, -1.40307039e+00, -6.43634519e-01,\n",
       "        -6.32543454e-01, -8.53713550e-01, -1.22772526e+00,\n",
       "         9.50740231e-01, -5.97375125e-01,  5.01933176e-01,\n",
       "        -1.88988467e+00, -1.23602220e+00, -1.74861600e+00,\n",
       "        -1.48828262e+00, -1.27810421e+00, -1.99338361e+00,\n",
       "        -6.80758371e-02,  1.07968241e+00, -1.49733014e+00,\n",
       "        -1.02248497e+00, -6.88068627e-02, -1.77284297e+00,\n",
       "        -1.42903599e+00, -1.63191608e+00, -1.57413453e-01,\n",
       "        -1.69732959e+00, -7.20691107e-01, -1.49836618e+00,\n",
       "        -1.53285135e+00, -7.83079289e-01, -5.65545945e-01,\n",
       "        -4.28247557e-03, -9.54816172e-01, -1.43027299e+00,\n",
       "        -1.99139039e-01, -3.93228458e-01, -3.13917579e-01,\n",
       "        -5.55629383e-01, -5.61729204e-02, -5.84257606e-02,\n",
       "        -8.07037000e-01, -1.86016879e-01, -9.65590226e-03,\n",
       "        -1.52664558e+00, -2.32543323e-02, -2.11665124e-02,\n",
       "        -2.37912887e-01, -5.85846410e-01, -1.07049581e+00,\n",
       "        -2.32905994e-03, -9.27980849e-02, -9.24081181e-01,\n",
       "        -4.27415411e-02, -7.88306156e-02, -1.35471230e+00,\n",
       "        -9.64506801e-02, -4.88903965e-01, -1.40428145e+00,\n",
       "        -1.03032194e-01, -1.76823043e+00, -1.81435331e+00,\n",
       "        -4.03453231e-01, -1.13007684e+00, -3.30143778e-01,\n",
       "        -1.03592948e-01, -1.62823990e+00, -1.27072988e+00,\n",
       "        -3.24165041e-01, -8.31515613e-01, -1.15541550e+00,\n",
       "        -8.81319474e-01, -5.14135967e-01, -3.41907953e-01,\n",
       "        -1.50008474e+00, -1.09546543e+00, -1.71840632e+00,\n",
       "        -1.68448953e+00, -1.23608462e+00, -8.06782295e-01,\n",
       "        -1.06026703e+00, -1.25449646e+00, -1.71040125e+00,\n",
       "        -4.54245598e-01, -1.78717499e+00, -1.26536725e+00,\n",
       "        -2.93821146e-01, -4.04645730e-01,  2.03128629e+00,\n",
       "        -1.02564465e+00, -1.07882287e+00, -1.48728331e+00,\n",
       "         1.52973464e+00, -1.39893030e+00, -3.67322611e-01,\n",
       "        -1.53385549e+00,  1.75371064e+00, -1.15897743e+00,\n",
       "         2.94968569e+00, -1.38165997e+00,  2.41200118e+00,\n",
       "         1.48331333e+00, -1.29300070e+00,  3.02838862e+00,\n",
       "        -1.14374794e+00, -1.06870636e+00,  2.70728746e+00,\n",
       "        -2.29022863e-01,  1.80385877e-01,  7.87999977e-01,\n",
       "        -1.65291432e-01,  3.73979818e+00,  3.48775653e+00,\n",
       "         2.08377776e+00,  2.36553487e+00,  3.47039369e+00,\n",
       "         2.42914859e+00,  3.90210781e+00,  2.03812322e+00,\n",
       "         4.04388429e+00,  3.15341019e+00,  3.09441731e+00,\n",
       "         1.00077505e+00,  3.22109077e+00,  3.03895157e+00,\n",
       "        -1.10566174e-01,  1.45338553e+00,  3.42704770e+00,\n",
       "         3.16377425e+00,  3.06435279e+00,  2.97153034e+00,\n",
       "         3.66817242e+00,  1.81576373e+00, -6.52056092e-01,\n",
       "         2.39565436e+00, -1.83495474e-02, -1.85426248e+00,\n",
       "        -7.55084589e-02,  3.68327360e+00,  3.01854545e+00,\n",
       "         6.67169560e-01,  3.21959504e+00,  6.71420203e-01,\n",
       "         3.62660798e+00,  3.41692475e+00, -4.99555802e-01,\n",
       "         2.82564692e+00,  3.67261725e+00,  7.88007167e-01,\n",
       "         3.86155325e+00, -2.85587710e-01,  2.28420287e+00,\n",
       "         2.81396650e-01,  3.13503544e-01, -1.43368358e+00,\n",
       "         9.57195160e-01, -1.85436896e+00,  3.81805817e-01,\n",
       "        -2.78967630e+00, -3.28548806e+00, -2.22349866e+00,\n",
       "        -2.78061591e+00,  8.26303188e-01, -3.72885115e+00,\n",
       "        -1.23292968e+00, -9.58935652e-01, -3.85811062e+00,\n",
       "        -3.59301074e+00, -3.19689248e+00, -2.12766839e+00,\n",
       "        -2.96424870e+00, -3.60274154e+00, -1.17472896e+00,\n",
       "        -2.58752094e+00, -3.16293962e+00, -1.72757867e+00,\n",
       "        -3.45341213e+00, -2.81273166e+00, -1.03553265e+00,\n",
       "        -3.15675590e-01, -3.70141041e+00, -4.21189811e+00,\n",
       "        -2.46094977e+00, -3.43569797e+00, -3.34469058e+00,\n",
       "        -1.38193635e+00, -3.17949403e+00, -2.42119633e+00,\n",
       "        -1.33643509e+00, -3.06299272e+00, -3.56504553e+00,\n",
       "        -3.34451075e+00,  7.77655270e-01, -2.98030710e+00,\n",
       "        -3.55225078e+00, -1.82974404e+00,  1.46532816e+00,\n",
       "         1.56688198e+00, -2.96543364e+00, -9.60755845e-01,\n",
       "        -3.37890943e+00,  1.47135345e+00, -3.02829566e+00,\n",
       "         7.50982262e-03,  1.79730919e+00,  3.91077683e-01,\n",
       "         1.63881069e+00, -8.84278418e-01,  1.56546135e+00,\n",
       "         1.59529239e+00,  1.27139537e+00,  1.40701977e+00,\n",
       "         1.58125802e+00, -1.72159327e+00,  5.68722722e-01,\n",
       "         1.60960641e+00,  1.70849761e+00,  3.77494361e-02,\n",
       "         1.77885147e+00,  1.57017560e+00,  1.31626221e+00,\n",
       "         1.45580659e+00,  9.95670227e-02,  1.49806312e+00,\n",
       "         1.19805866e+00,  1.30759534e+00,  1.69066279e+00,\n",
       "         1.54457758e+00,  3.36164302e-01,  4.71520896e-01,\n",
       "         1.79332637e+00,  1.75802645e+00,  1.11059510e+00,\n",
       "         2.25410298e-02,  1.03402966e+00,  1.46010385e-01,\n",
       "         1.50301824e+00,  5.29563078e-01,  7.23526086e-01,\n",
       "         1.24444151e+00,  7.11308695e-01,  3.65824427e-02,\n",
       "         5.96719268e-01,  1.77160218e-01,  4.50367941e-01,\n",
       "         3.75726453e-02,  2.13641164e-01,  3.24386893e-01,\n",
       "         7.30780825e-01],\n",
       "       [ 3.57611415e+00, -1.48217090e+00, -1.27995533e+00,\n",
       "        -2.06437997e+00,  2.88910878e+00, -4.03512400e+00,\n",
       "         3.24255518e+00, -8.53952855e-01,  2.47793820e+00,\n",
       "         1.81117216e+00,  3.45270042e+00, -3.44017638e+00,\n",
       "         2.10549647e+00,  1.81380501e+00,  3.30267114e+00,\n",
       "         4.18131769e-01,  3.09636434e+00,  1.33096004e+00,\n",
       "         3.78708833e+00,  3.67113005e+00,  1.77614048e+00,\n",
       "         2.76152023e+00,  3.25544108e+00,  3.46859174e+00,\n",
       "         2.48644177e+00,  3.77377130e+00,  3.60609974e+00,\n",
       "         3.11254032e+00,  3.57519059e+00,  2.61610253e+00,\n",
       "         3.71658382e+00,  3.70508842e+00,  3.83692688e+00,\n",
       "         4.03764347e+00,  3.66278004e+00,  2.58286653e+00,\n",
       "         3.46644213e+00,  1.81009586e+00, -1.49385117e+00,\n",
       "         4.15245354e-01,  2.27195929e+00,  3.36955063e+00,\n",
       "         3.12091874e+00, -1.81920100e+00,  8.92965442e-01,\n",
       "         2.58295944e+00,  3.90987436e-01, -1.63847358e+00,\n",
       "         3.58745594e-01, -1.20025645e+00, -6.62747682e-01,\n",
       "         6.31091667e-01,  1.91148705e+00,  5.61807626e-01,\n",
       "        -1.64789940e-01, -1.67941725e+00, -1.52497835e+00,\n",
       "        -1.68684842e+00, -1.45714301e+00, -1.77895038e+00,\n",
       "        -3.48915965e-02, -1.52257926e+00, -1.66776383e+00,\n",
       "        -1.34036665e+00, -1.71311210e+00, -1.51851549e+00,\n",
       "        -1.13514717e+00, -6.42637843e-01, -6.83366271e-02,\n",
       "        -2.92017074e-01, -1.41218116e-01, -1.50670574e+00,\n",
       "        -1.52995707e+00, -7.94385720e-01, -1.39958852e+00,\n",
       "         3.56093081e-02, -1.79730878e+00, -5.11392884e-01,\n",
       "        -1.12667182e+00, -4.21185479e-01, -1.45669050e+00,\n",
       "        -1.33847132e+00, -8.16479132e-01, -4.73790481e-01,\n",
       "        -6.39753507e-01, -6.34286374e-01, -1.38061641e+00,\n",
       "        -2.57794858e-01, -4.47701819e-01, -4.12904131e-02,\n",
       "        -9.76752768e-02, -1.78618154e-01, -5.67541671e-01,\n",
       "        -8.13740301e-01, -2.63923558e-03, -7.25097028e-02,\n",
       "        -2.63437687e-01, -2.06478223e-02, -4.03305715e-01,\n",
       "        -2.38704899e-01, -9.51626957e-02, -7.98991813e-01,\n",
       "        -1.66006988e-01, -3.64406026e-01, -3.86024370e-01,\n",
       "        -2.20189574e-01, -7.75370339e-01, -1.22170582e-01,\n",
       "        -8.42420756e-02, -2.98099361e-01, -1.96869702e-01,\n",
       "        -7.53075017e-01, -1.46831842e+00, -9.55610600e-03,\n",
       "        -1.20211122e+00, -9.60546773e-03, -8.10882920e-01,\n",
       "        -5.68346353e-02, -1.67347742e+00, -1.40460974e+00,\n",
       "        -1.12343152e+00, -4.04122779e-01, -1.57164755e+00,\n",
       "        -2.60933944e-01, -2.62404061e-04, -1.44902115e+00,\n",
       "        -4.90044260e-01, -1.85263115e+00, -5.41699195e-01,\n",
       "        -1.53914207e+00, -1.68871377e+00, -1.48674074e+00,\n",
       "        -7.97674459e-01, -1.39073589e+00, -1.14367531e+00,\n",
       "        -1.57393834e+00, -8.87426686e-01, -1.21102011e+00,\n",
       "        -8.58734620e-03, -1.19452167e+00, -1.53428360e+00,\n",
       "        -1.57898433e+00,  5.80732218e-01,  3.71643284e-01,\n",
       "         9.98470127e-02, -5.86327973e-01, -5.26306388e-01,\n",
       "         8.87962668e-01,  5.64689692e-02,  1.59318262e+00,\n",
       "        -8.25136845e-01, -1.20845750e+00,  2.78336582e+00,\n",
       "         3.43105607e+00,  1.88901133e+00,  7.17082698e-01,\n",
       "         7.16776955e-01,  1.00558709e+00,  1.57888938e+00,\n",
       "        -7.97008734e-01,  6.58892564e-01, -4.71381742e-01,\n",
       "         3.06914837e+00,  1.64172117e+00,  3.43138378e+00,\n",
       "         2.22472260e+00,  3.59356305e+00,  3.82338186e+00,\n",
       "         9.78172883e-01, -9.08628545e-01,  2.16232645e+00,\n",
       "         3.55191556e+00, -1.13111936e+00,  3.41399524e+00,\n",
       "         3.33509092e+00,  3.43837535e+00,  1.35204653e+00,\n",
       "         3.76053347e+00,  3.30301665e+00,  3.55267433e+00,\n",
       "         2.37056808e+00,  3.18484540e+00,  2.98100486e+00,\n",
       "         3.10265302e-01,  3.33480741e+00,  3.74789034e+00,\n",
       "         1.75698786e+00,  2.41233915e+00,  2.26160198e+00,\n",
       "         2.84308753e+00, -8.08464256e-01,  7.97601218e-01,\n",
       "        -3.16602301e+00, -1.73923341e+00, -3.03300460e-01,\n",
       "         3.51448929e+00, -4.48211450e-01, -6.80222539e-01,\n",
       "        -1.89461587e+00, -3.09125994e+00,  3.68252461e+00,\n",
       "        -2.48775165e-01, -1.11264583e+00, -3.31287149e+00,\n",
       "         9.83064901e-01, -1.06200552e+00,  3.64306307e+00,\n",
       "         1.23598454e+00, -2.48635569e+00, -3.96546091e+00,\n",
       "        -1.30407633e+00, -2.80700115e+00, -3.17916299e+00,\n",
       "        -2.34899616e+00,  3.86016046e+00,  2.31046192e+00,\n",
       "        -1.40325115e+00, -3.22048585e+00, -3.80050197e+00,\n",
       "         2.25857585e+00, -3.30857362e+00, -1.58359847e+00,\n",
       "        -3.47513222e+00, -2.68758875e+00, -3.55711876e-01,\n",
       "        -3.74431790e+00, -3.66810701e+00, -3.36824403e+00,\n",
       "        -3.76359366e+00, -3.41537451e+00, -9.76623415e-01,\n",
       "        -1.29100568e+00, -1.65608598e+00, -3.32409572e+00,\n",
       "        -4.96630821e-01, -3.14165698e+00, -1.71322197e+00,\n",
       "        -3.05909111e-01, -4.46777005e-01,  1.45931378e+00,\n",
       "        -1.22812034e+00, -3.69037212e+00, -3.47057694e+00,\n",
       "         1.15856433e+00, -2.03606086e+00, -3.85511111e-01,\n",
       "        -2.62194406e+00,  1.34798304e+00, -1.51195709e+00,\n",
       "         1.73829518e+00, -1.79547235e+00,  1.54317462e+00,\n",
       "         1.10954960e+00, -1.64931941e+00,  1.75797432e+00,\n",
       "        -1.47251063e+00, -1.28986402e+00,  1.67620531e+00,\n",
       "        -2.39669870e-01,  1.80650988e-01,  6.91778881e-01,\n",
       "        -1.82942022e-01,  1.63134904e+00,  1.82884977e+00,\n",
       "         1.43428651e+00,  1.60094812e+00,  1.75230668e+00,\n",
       "         4.64326857e-01,  1.43351617e+00,  1.43138441e+00,\n",
       "         1.42782215e+00,  1.73492674e+00,  1.70395009e+00,\n",
       "         7.47685370e-02,  1.82710034e+00,  1.70923867e+00,\n",
       "        -1.11868340e-01,  1.14112185e+00,  9.82679506e-01,\n",
       "         1.69883486e+00,  7.33791653e-01,  1.80316095e+00,\n",
       "         1.81840953e+00,  2.85892703e-01,  1.09388890e-02,\n",
       "         3.40608544e-01, -8.22267713e-05,  2.09582869e-01,\n",
       "        -3.52827719e-04,  1.47413722e+00,  6.19443662e-01,\n",
       "         2.64445438e-02,  7.63859684e-01,  2.95005667e-02,\n",
       "         1.68281773e+00,  9.40761147e-01,  9.24913182e-03,\n",
       "         1.61411623e+00,  1.04594113e+00,  3.45145694e-02,\n",
       "         1.49077794e+00,  7.29051825e-04,  3.52475534e-01,\n",
       "         1.00877527e-02,  4.27419191e-03,  1.31839708e-01,\n",
       "         4.14122283e-02,  1.91933665e-01,  7.39039595e-03,\n",
       "         6.46626879e-01,  1.67303451e+00,  4.21369487e-01,\n",
       "         5.56612529e-01,  4.42761985e-02,  1.29232912e+00,\n",
       "         7.28430003e-02,  6.19710137e-02,  1.42351448e+00,\n",
       "         1.08735728e+00,  1.72484190e+00,  1.38667445e+00,\n",
       "         5.90891086e-01,  1.29900039e+00,  9.65871130e-01,\n",
       "         1.56881569e+00,  1.76930017e+00,  1.29792183e+00,\n",
       "         9.84995600e-01,  1.69277814e+00,  8.93630841e-01,\n",
       "         3.06091086e-01,  1.14596763e+00,  1.91549748e+00,\n",
       "         1.57524026e+00,  1.66266665e+00,  1.59850516e+00,\n",
       "         1.10993370e+00,  1.67500495e+00,  5.25296992e-01,\n",
       "         1.03566638e+00,  1.74435925e+00,  1.81971221e+00,\n",
       "         1.11128726e+00, -8.89501086e-01,  6.66069451e-01,\n",
       "         1.26100476e+00,  1.36655852e+00, -2.08468516e+00,\n",
       "        -2.38718334e+00,  1.66924896e+00,  8.49203268e-01,\n",
       "         1.72895893e+00, -2.25643833e+00,  1.69824962e+00,\n",
       "        -7.63165462e-03, -3.09272026e+00, -4.09952810e-01,\n",
       "        -3.79499252e+00,  7.61286324e-01, -2.30558737e+00,\n",
       "        -3.03467556e+00, -1.61502125e+00, -3.90266394e+00,\n",
       "        -2.90841129e+00,  1.31250839e+00,  2.59847860e+00,\n",
       "        -3.50186707e+00, -2.96039129e+00, -3.60098795e-02,\n",
       "        -3.27807629e+00, -2.34587605e+00, -3.56919962e+00,\n",
       "        -3.51991588e+00, -1.23848616e+00, -3.47814659e+00,\n",
       "        -3.65480564e+00, -3.82629239e+00, -3.80826364e+00,\n",
       "        -3.56242008e+00, -2.44646389e+00, -2.51865217e+00,\n",
       "        -3.70032292e+00, -2.98399234e+00, -3.49686963e+00,\n",
       "        -4.88897726e-01, -3.76272064e+00,  1.42253750e+00,\n",
       "        -3.69488964e+00, -2.79391432e+00, -8.53390853e-01,\n",
       "        -3.97467897e+00, -3.03195393e+00, -7.20267166e-01,\n",
       "         2.87171160e+00, -1.53928239e+00,  2.40812143e+00,\n",
       "         8.91600979e-01,  1.73201591e+00, -2.11632466e+00,\n",
       "         3.06832921e+00]])"
      ]
     },
     "execution_count": 154,
     "metadata": {},
     "output_type": "execute_result"
    }
   ],
   "source": [
    "X, Y = load_planar_dataset()\n",
    "X"
   ]
  },
  {
   "cell_type": "markdown",
   "metadata": {
    "colab_type": "text",
    "id": "DP4oi7vzCeMs"
   },
   "source": [
    "Visualize the dataset using matplotlib. The data looks like a \"flower\" with some red (label y=0) and some blue (y=1) points. Your goal is to build a model to fit this data. "
   ]
  },
  {
   "cell_type": "code",
   "execution_count": 155,
   "metadata": {
    "colab": {
     "autoexec": {
      "startup": false,
      "wait_interval": 0
     }
    },
    "colab_type": "code",
    "id": "gyIC3gkZCeMw",
    "outputId": "1dbba546-68a8-4cb2-cb3e-7c3c11f844b4"
   },
   "outputs": [
    {
     "data": {
      "image/png": "[encoded data removed]",
      "text/plain": [
       "<Figure size 432x288 with 1 Axes>"
      ]
     },
     "metadata": {
      "needs_background": "light"
     },
     "output_type": "display_data"
    }
   ],
   "source": [
    "# Visualize the data:\n",
    "plt.scatter(X[0, :], X[1, :], c=Y.reshape(400), s=40, cmap=plt.cm.Spectral);"
   ]
  },
  {
   "cell_type": "markdown",
   "metadata": {
    "colab_type": "text",
    "id": "Via37g9ECeNA"
   },
   "source": [
    "You have:\n",
    "    - a numpy-array (matrix) X that contains your features (x1, x2)\n",
    "    - a numpy-array (vector) Y that contains your labels (red:0, blue:1).\n",
    "\n",
    "Lets first get a better sense of what our data is like. \n",
    "\n",
    "**Exercise**: How many training examples do you have? In addition, what is the `shape` of the variables `X` and `Y`? \n",
    "\n",
    "**Hint**: How do you get the shape of a numpy array? [(help)](https://docs.scipy.org/doc/numpy/reference/generated/numpy.ndarray.shape.html)"
   ]
  },
  {
   "cell_type": "code",
   "execution_count": 156,
   "metadata": {
    "colab": {
     "autoexec": {
      "startup": false,
      "wait_interval": 0
     }
    },
    "colab_type": "code",
    "id": "GHso_GnbCeNC"
   },
   "outputs": [
    {
     "name": "stdout",
     "output_type": "stream",
     "text": [
      "The shape of X is: (2, 400)\n",
      "The shape of Y is: (1, 400)\n",
      "I have m = 400 training examples!\n"
     ]
    }
   ],
   "source": [
    "### START CODE HERE ### (≈ 3 lines of code)\n",
    "shape_X = X.shape\n",
    "shape_Y = Y.shape\n",
    "m = len(X[0, :])\n",
    "### END CODE HERE ###\n",
    "\n",
    "print ('The shape of X is: ' + str(shape_X))\n",
    "print ('The shape of Y is: ' + str(shape_Y))\n",
    "print ('I have m = %d training examples!' % m)"
   ]
  },
  {
   "cell_type": "markdown",
   "metadata": {
    "colab_type": "text",
    "id": "uKgOGmh6CeNO"
   },
   "source": [
    "**Expected Output**:\n",
    "       \n",
    "<table style=\"width:20%\">\n",
    "  \n",
    "  <tr>\n",
    "    <td> \n",
    "        **shape of X** \n",
    "    </td>\n",
    "    <td> (2, 400) </td> \n",
    "  </tr>\n",
    "  \n",
    "  <tr>\n",
    "    <td>\n",
    "        **shape of Y**\n",
    "    </td>\n",
    "    <td>(1, 400) </td> \n",
    "  </tr>\n",
    "  \n",
    "  <tr>\n",
    "    <td>\n",
    "        **m**\n",
    "    </td>\n",
    "    <td> 400 </td> \n",
    "  </tr>\n",
    "  \n",
    "</table>"
   ]
  },
  {
   "cell_type": "markdown",
   "metadata": {
    "colab_type": "text",
    "id": "7RQjIPPjCeNS"
   },
   "source": [
    "## 3 - Simple Logistic Regression\n",
    "\n",
    "Before building a full neural network, lets first see how logistic regression performs on this problem. You can use sklearn's built-in functions to do that. Run the code below to train a logistic regression classifier on the dataset."
   ]
  },
  {
   "cell_type": "code",
   "execution_count": 157,
   "metadata": {
    "colab": {
     "autoexec": {
      "startup": false,
      "wait_interval": 0
     }
    },
    "colab_type": "code",
    "id": "Fov9fIhbCeNU"
   },
   "outputs": [
    {
     "name": "stderr",
     "output_type": "stream",
     "text": [
      "/home/petr/anaconda3/lib/python3.7/site-packages/sklearn/utils/validation.py:724: DataConversionWarning: A column-vector y was passed when a 1d array was expected. Please change the shape of y to (n_samples, ), for example using ravel().\n",
      "  y = column_or_1d(y, warn=True)\n",
      "/home/petr/anaconda3/lib/python3.7/site-packages/sklearn/model_selection/_split.py:1978: FutureWarning: The default value of cv will change from 3 to 5 in version 0.22. Specify it explicitly to silence this warning.\n",
      "  warnings.warn(CV_WARNING, FutureWarning)\n"
     ]
    }
   ],
   "source": [
    "# Train the logistic regression classifier\n",
    "clf = sklearn.linear_model.LogisticRegressionCV();\n",
    "clf.fit(X.T, Y.T);"
   ]
  },
  {
   "cell_type": "markdown",
   "metadata": {
    "colab_type": "text",
    "id": "n-rUSftKCeNg"
   },
   "source": [
    "You can now plot the decision boundary of these models. Run the code below."
   ]
  },
  {
   "cell_type": "code",
   "execution_count": 158,
   "metadata": {
    "colab": {
     "autoexec": {
      "startup": false,
      "wait_interval": 0
     }
    },
    "colab_type": "code",
    "id": "IgtE93w7CeNi"
   },
   "outputs": [
    {
     "name": "stdout",
     "output_type": "stream",
     "text": [
      "Accuracy of logistic regression: 47 % (percentage of correctly labelled datapoints)\n"
     ]
    },
    {
     "data": {
      "image/png": "[encoded data removed]",
      "text/plain": [
       "<Figure size 432x288 with 1 Axes>"
      ]
     },
     "metadata": {
      "needs_background": "light"
     },
     "output_type": "display_data"
    }
   ],
   "source": [
    "# Plot the decision boundary for logistic regression\n",
    "plot_decision_boundary(lambda x: clf.predict(x), X, Y.reshape(400))\n",
    "plt.title(\"Logistic Regression\")\n",
    "\n",
    "# Print accuracy\n",
    "LR_predictions = clf.predict(X.T)\n",
    "print (\"Accuracy of logistic regression: %d \" % float((np.dot(Y,LR_predictions) + np.dot(1-Y,1-LR_predictions))/float(Y.size)*100) +\n",
    "       '% ' + \"(percentage of correctly labelled datapoints)\")"
   ]
  },
  {
   "cell_type": "markdown",
   "metadata": {
    "colab_type": "text",
    "id": "OW_hek7iCeN2"
   },
   "source": [
    "**Expected Output**:\n",
    "\n",
    "<table style=\"width:20%\">\n",
    "  <tr>\n",
    "    <td>**Accuracy**</td>\n",
    "    <td> 47% </td> \n",
    "  </tr>\n",
    "  \n",
    "</table>\n"
   ]
  },
  {
   "cell_type": "markdown",
   "metadata": {
    "colab_type": "text",
    "id": "NibAdRLOCeN6"
   },
   "source": [
    "**Interpretation**: The dataset is not linearly separable, so logistic regression doesn't perform well. Hopefully a neural network will do better. Let's try this now! "
   ]
  },
  {
   "cell_type": "markdown",
   "metadata": {
    "colab_type": "text",
    "id": "L3IW2VGNCeN-"
   },
   "source": [
    "## 4 - Neural Network model\n",
    "\n",
    "Logistic regression did not work well on the \"flower dataset\". You are going to train a Neural Network with a single hidden layer.\n",
    "\n",
    "**Here is our model**:\n",
    "<img src=\"images/classification_kiank.png\" style=\"width:600px;height:300px;\">\n",
    "\n",
    "**Mathematically**:\n",
    "\n",
    "For one example $x^{(i)}$:\n",
    "$$z^{[1] (i)} =  W^{[1]} x^{(i)} + b^{[1] (i)}\\tag{1}$$ \n",
    "$$a^{[1] (i)} = \\tanh(z^{[1] (i)})\\tag{2}$$\n",
    "$$z^{[2] (i)} = W^{[2]} a^{[1] (i)} + b^{[2] (i)}\\tag{3}$$\n",
    "$$\\hat{y}^{(i)} = a^{[2] (i)} = \\sigma(z^{ [2] (i)})\\tag{4}$$\n",
    "$$y^{(i)}_{prediction} = \\begin{cases} 1 & \\mbox{if } a^{[2](i)} > 0.5 \\\\ 0 & \\mbox{otherwise } \\end{cases}\\tag{5}$$\n",
    "\n",
    "Given the predictions on all the examples, you can also compute the cost $J$ as follows: \n",
    "$$J = - \\frac{1}{m} \\sum\\limits_{i = 0}^{m} \\large\\left(\\small y^{(i)}\\log\\left(a^{[2] (i)}\\right) + (1-y^{(i)})\\log\\left(1- a^{[2] (i)}\\right)  \\large  \\right) \\small \\tag{6}$$\n",
    "\n",
    "**Reminder**: The general methodology to build a Neural Network is to:\n",
    "    1. Define the neural network structure ( # of input units,  # of hidden units, etc). \n",
    "    2. Initialize the model's parameters\n",
    "    3. Loop:\n",
    "        - Implement forward propagation\n",
    "        - Compute loss\n",
    "        - Implement backward propagation to get the gradients\n",
    "        - Update parameters (gradient descent)\n",
    "\n",
    "You often build helper functions to compute steps 1-3 and then merge them into one function we call `nn_model()`. Once you've built `nn_model()` and learnt the right parameters, you can make predictions on new data."
   ]
  },
  {
   "cell_type": "markdown",
   "metadata": {
    "colab_type": "text",
    "id": "FEl1s-L3CeOE"
   },
   "source": [
    "### 4.1 - Defining the neural network structure ####\n",
    "\n",
    "**Exercise**: Define three variables:\n",
    "    - n_x: the size of the input layer\n",
    "    - n_h: the size of the hidden layer (set this to 4) \n",
    "    - n_y: the size of the output layer\n",
    "\n",
    "**Hint**: Use shapes of X and Y to find n_x and n_y. Also, hard code the hidden layer size to be 4."
   ]
  },
  {
   "cell_type": "code",
   "execution_count": 159,
   "metadata": {
    "colab": {
     "autoexec": {
      "startup": false,
      "wait_interval": 0
     }
    },
    "colab_type": "code",
    "id": "UVV11XxWCeOK"
   },
   "outputs": [],
   "source": [
    "# GRADED FUNCTION: layer_sizes\n",
    "\n",
    "def layer_sizes(X, Y):\n",
    "    \"\"\"\n",
    "    Arguments:\n",
    "    X -- input dataset of shape (input size, number of examples)\n",
    "    Y -- labels of shape (output size, number of examples)\n",
    "    \n",
    "    Returns:\n",
    "    n_x -- the size of the input layer\n",
    "    n_h -- the size of the hidden layer\n",
    "    n_y -- the size of the output layer\n",
    "    \"\"\"\n",
    "    ### START CODE HERE ### (≈ 3 lines of code)\n",
    "    n_x = len(X)\n",
    "    n_h = 4\n",
    "    n_y = len(Y)\n",
    "    ### END CODE HERE ###\n",
    "    return (n_x, n_h, n_y)"
   ]
  },
  {
   "cell_type": "code",
   "execution_count": 160,
   "metadata": {
    "colab": {
     "autoexec": {
      "startup": false,
      "wait_interval": 0
     }
    },
    "colab_type": "code",
    "id": "E4cMJ82XCeOS"
   },
   "outputs": [
    {
     "name": "stdout",
     "output_type": "stream",
     "text": [
      "The size of the input layer is: n_x = 5\n",
      "The size of the hidden layer is: n_h = 4\n",
      "The size of the output layer is: n_y = 2\n"
     ]
    }
   ],
   "source": [
    "X_assess, Y_assess = layer_sizes_test_case()\n",
    "(n_x, n_h, n_y) = layer_sizes(X_assess, Y_assess)\n",
    "print(\"The size of the input layer is: n_x = \" + str(n_x))\n",
    "print(\"The size of the hidden layer is: n_h = \" + str(n_h))\n",
    "print(\"The size of the output layer is: n_y = \" + str(n_y))"
   ]
  },
  {
   "cell_type": "code",
   "execution_count": null,
   "metadata": {},
   "outputs": [],
   "source": []
  },
  {
   "cell_type": "markdown",
   "metadata": {
    "colab_type": "text",
    "id": "72xLM6Y-CeOe"
   },
   "source": [
    "**Expected Output** (these are not the sizes you will use for your network, they are just used to assess the function you've just coded).\n",
    "\n",
    "<table style=\"width:20%\">\n",
    "  <tr>\n",
    "    <td>**n_x**</td>\n",
    "    <td> 5 </td> \n",
    "  </tr>\n",
    "  \n",
    "  <tr>\n",
    "    <td>**n_h**</td>\n",
    "    <td> 4 </td> \n",
    "  </tr>\n",
    "  \n",
    "  <tr>\n",
    "    <td>**n_y**</td>\n",
    "    <td> 2 </td> \n",
    "  </tr>\n",
    "  \n",
    "</table>"
   ]
  },
  {
   "cell_type": "markdown",
   "metadata": {
    "colab_type": "text",
    "id": "b5Ql05q9CeOi"
   },
   "source": [
    "### 4.2 - Initialize the model's parameters ####\n",
    "\n",
    "**Exercise**: Implement the function `initialize_parameters()`.\n",
    "\n",
    "**Instructions**:\n",
    "- Make sure your parameters' sizes are right. Refer to the neural network figure above if needed.\n",
    "- You will initialize the weights matrices with random values. \n",
    "    - Use: `np.random.randn(a,b) * 0.01` to randomly initialize a matrix of shape (a,b).\n",
    "- You will initialize the bias vectors as zeros. \n",
    "    - Use: `np.zeros((a,b))` to initialize a matrix of shape (a,b) with zeros."
   ]
  },
  {
   "cell_type": "code",
   "execution_count": 161,
   "metadata": {
    "colab": {
     "autoexec": {
      "startup": false,
      "wait_interval": 0
     }
    },
    "colab_type": "code",
    "id": "xuwkzKRwCeOm"
   },
   "outputs": [],
   "source": [
    "# GRADED FUNCTION: initialize_parameters\n",
    "\n",
    "def initialize_parameters(n_x, n_h, n_y):\n",
    "    \"\"\"\n",
    "    Argument:\n",
    "    n_x -- size of the input layer\n",
    "    n_h -- size of the hidden layer\n",
    "    n_y -- size of the output layer\n",
    "    \n",
    "    Returns:\n",
    "    params -- python dictionary containing your parameters:\n",
    "                    W1 -- weight matrix of shape (n_h, n_x)\n",
    "                    b1 -- bias vector of shape (n_h, 1)\n",
    "                    W2 -- weight matrix of shape (n_y, n_h)\n",
    "                    b2 -- bias vector of shape (n_y, 1)\n",
    "    \"\"\"\n",
    "    \n",
    "    np.random.seed(2) # we set up a seed so that your output matches ours although the initialization is random.\n",
    "    \n",
    "    ### START CODE HERE ### (≈ 4 lines of code)\n",
    "    W1 = np.random.randn(n_h, n_x) * 0.01\n",
    "    W2 = np.random.randn(n_y, n_h) * 0.01\n",
    "    b1 = np.zeros((n_h, 1))\n",
    "    b2 = np.zeros((n_y, 1))\n",
    "    ### END CODE HERE ###\n",
    "    \n",
    "    assert (W1.shape == (n_h, n_x))\n",
    "    assert (b1.shape == (n_h, 1))\n",
    "    assert (W2.shape == (n_y, n_h))\n",
    "    assert (b2.shape == (n_y, 1))\n",
    "    \n",
    "    parameters = {\"W1\": W1,\n",
    "                  \"b1\": b1,\n",
    "                  \"W2\": W2,\n",
    "                  \"b2\": b2}\n",
    "    \n",
    "    return parameters"
   ]
  },
  {
   "cell_type": "code",
   "execution_count": 162,
   "metadata": {
    "colab": {
     "autoexec": {
      "startup": false,
      "wait_interval": 0
     }
    },
    "colab_type": "code",
    "id": "LiZ81-iICeOw"
   },
   "outputs": [
    {
     "name": "stdout",
     "output_type": "stream",
     "text": [
      "W1 = [[-0.00416758 -0.00056267]\n",
      " [-0.02136196  0.01640271]\n",
      " [-0.01793436 -0.00841747]\n",
      " [ 0.00502881 -0.01245288]]\n",
      "b1 = [[0.]\n",
      " [0.]\n",
      " [0.]\n",
      " [0.]]\n",
      "W2 = [[-0.01057952 -0.00909008  0.00551454  0.02292208]]\n",
      "b2 = [[0.]]\n"
     ]
    }
   ],
   "source": [
    "n_x, n_h, n_y = initialize_parameters_test_case()\n",
    "\n",
    "parameters = initialize_parameters(n_x, n_h, n_y)\n",
    "print(\"W1 = \" + str(parameters[\"W1\"]))\n",
    "print(\"b1 = \" + str(parameters[\"b1\"]))\n",
    "print(\"W2 = \" + str(parameters[\"W2\"]))\n",
    "print(\"b2 = \" + str(parameters[\"b2\"]))"
   ]
  },
  {
   "cell_type": "markdown",
   "metadata": {
    "colab_type": "text",
    "id": "qMnewKC-CeO4"
   },
   "source": [
    "**Expected Output**:\n",
    "\n",
    "<table style=\"width:90%\">\n",
    "  <tr>\n",
    "    <td>**W1**</td>\n",
    "    <td> [[-0.00416758 -0.00056267]\n",
    " [-0.02136196  0.01640271]\n",
    " [-0.01793436 -0.00841747]\n",
    " [ 0.00502881 -0.01245288]] </td> \n",
    "  </tr>\n",
    "  \n",
    "  <tr>\n",
    "    <td>**b1**</td>\n",
    "    <td> [[ 0.]\n",
    " [ 0.]\n",
    " [ 0.]\n",
    " [ 0.]] </td> \n",
    "  </tr>\n",
    "  \n",
    "  <tr>\n",
    "    <td>**W2**</td>\n",
    "    <td> [[-0.01057952 -0.00909008  0.00551454  0.02292208]]</td> \n",
    "  </tr>\n",
    "  \n",
    "\n",
    "  <tr>\n",
    "    <td>**b2**</td>\n",
    "    <td> [[ 0.]] </td> \n",
    "  </tr>\n",
    "  \n",
    "</table>\n",
    "\n"
   ]
  },
  {
   "cell_type": "markdown",
   "metadata": {
    "colab_type": "text",
    "id": "Irxjwgw5CeO6"
   },
   "source": [
    "### 4.3 - The Loop ####\n",
    "\n",
    "**Question**: Implement `forward_propagation()`.\n",
    "\n",
    "**Instructions**:\n",
    "- Look above at the mathematical representation of your classifier.\n",
    "- You can use the function `sigmoid()`. It is built-in (imported) in the notebook.\n",
    "- You can use the function `np.tanh()`. It is part of the numpy library.\n",
    "- The steps you have to implement are:\n",
    "    1. Retrieve each parameter from the dictionary \"parameters\" (which is the output of `initialize_parameters()`) by using `parameters[\"..\"]`.\n",
    "    2. Implement Forward Propagation. Compute $Z^{[1]}, A^{[1]}, Z^{[2]}$ and $A^{[2]}$ (the vector of all your predictions on all the examples in the training set).\n",
    "- Values needed in the backpropagation are stored in \"`cache`\". The `cache` will be given as an input to the backpropagation function."
   ]
  },
  {
   "cell_type": "code",
   "execution_count": 139,
   "metadata": {
    "colab": {
     "autoexec": {
      "startup": false,
      "wait_interval": 0
     }
    },
    "colab_type": "code",
    "id": "U6wXagaXCePK"
   },
   "outputs": [],
   "source": [
    "# GRADED FUNCTION: forward_propagation\n",
    "\n",
    "def forward_propagation(X, parameters):\n",
    "    \"\"\"\n",
    "    Argument:\n",
    "    X -- input data of size (n_x, m)\n",
    "    parameters -- python dictionary containing your parameters (output of initialization function)\n",
    "    \n",
    "    Returns:\n",
    "    A2 -- The sigmoid output of the second activation\n",
    "    cache -- a dictionary containing \"Z1\", \"A1\", \"Z2\" and \"A2\"\n",
    "    \"\"\"\n",
    "    # Retrieve each parameter from the dictionary \"parameters\"\n",
    "    ### START CODE HERE ### (≈ 4 lines of code)\n",
    "    W1 = parameters[\"W1\"]\n",
    "    W2 = parameters[\"W2\"]\n",
    "    b1 = parameters[\"b1\"]\n",
    "    b2 = parameters[\"b2\"]\n",
    "    ### END CODE HERE ###\n",
    "    \n",
    "    # Implement Forward Propagation to calculate A2 (probabilities)\n",
    "    ### START CODE HERE ### (≈ 4 lines of code)\n",
    "    Z1 = np.matmul(W1, X) + b1\n",
    "    A1 = np.tanh(Z1)\n",
    "    Z2 = np.matmul(W2, A1) + b2\n",
    "    A2 = sigmoid(Z2)\n",
    "    ### END CODE HERE ###\n",
    "    \n",
    "    assert(A2.shape == (1, X.shape[1]))\n",
    "    \n",
    "    cache = {\"Z1\": Z1,\n",
    "             \"A1\": A1,\n",
    "             \"Z2\": Z2,\n",
    "             \"A2\": A2}\n",
    "    \n",
    "    return A2, cache"
   ]
  },
  {
   "cell_type": "code",
   "execution_count": null,
   "metadata": {},
   "outputs": [],
   "source": []
  },
  {
   "cell_type": "code",
   "execution_count": 140,
   "metadata": {
    "colab": {
     "autoexec": {
      "startup": false,
      "wait_interval": 0
     }
    },
    "colab_type": "code",
    "id": "nz01FxYKCePa"
   },
   "outputs": [
    {
     "name": "stdout",
     "output_type": "stream",
     "text": [
      "-0.0004997557777419902 -0.000496963353231779 0.00043818745095914653 0.500109546852431\n"
     ]
    }
   ],
   "source": [
    "X_assess, parameters = forward_propagation_test_case()\n",
    "\n",
    "A2, cache = forward_propagation(X_assess, parameters)\n",
    "\n",
    "# Note: we use the mean here just to make sure that your output matches ours. \n",
    "print(np.mean(cache['Z1']) ,np.mean(cache['A1']),np.mean(cache['Z2']),np.mean(cache['A2']))"
   ]
  },
  {
   "cell_type": "markdown",
   "metadata": {
    "colab_type": "text",
    "id": "sG-7LsWTCeP2"
   },
   "source": [
    "**Expected Output**:\n",
    "<table style=\"width:55%\">\n",
    "  <tr>\n",
    "    <td> -0.000499755777742 -0.000496963353232 0.000438187450959 0.500109546852 </td> \n",
    "  </tr>\n",
    "</table>"
   ]
  },
  {
   "cell_type": "markdown",
   "metadata": {
    "colab_type": "text",
    "id": "SeOBJ5skCeP4"
   },
   "source": [
    "Now that you have computed $A^{[2]}$ (in the Python variable \"`A2`\"), which contains $a^{[2](i)}$ for every example, you can compute the cost function as follows:\n",
    "\n",
    "$$J = - \\frac{1}{m} \\sum\\limits_{i = 0}^{m} \\large{(} \\small y^{(i)}\\log\\left(a^{[2] (i)}\\right) + (1-y^{(i)})\\log\\left(1- a^{[2] (i)}\\right) \\large{)} \\small\\tag{13}$$\n",
    "\n",
    "**Exercise**: Implement `compute_cost()` to compute the value of the cost $J$.\n",
    "\n",
    "**Instructions**:\n",
    "- There are many ways to implement the cross-entropy loss. To help you, we give you how we would have implemented\n",
    "$- \\sum\\limits_{i=0}^{m}  y^{(i)}\\log(a^{[2](i)})$:\n",
    "```python\n",
    "logprobs = np.multiply(np.log(A2),Y)\n",
    "cost = - np.sum(logprobs)                # no need to use a for loop!\n",
    "```\n",
    "\n",
    "(you can use either `np.multiply()` and then `np.sum()` or directly `np.dot()`).\n"
   ]
  },
  {
   "cell_type": "code",
   "execution_count": 141,
   "metadata": {
    "colab": {
     "autoexec": {
      "startup": false,
      "wait_interval": 0
     }
    },
    "colab_type": "code",
    "id": "hISvl2maCeP6"
   },
   "outputs": [],
   "source": [
    "def compute_cost(A2, Y, parameters):\n",
    "    \"\"\"\n",
    "    Computes the cross-entropy cost given in equation (13)\n",
    "    \n",
    "    Arguments:\n",
    "    A2 -- The sigmoid output of the second activation, of shape (1, number of examples)\n",
    "    Y -- \"true\" labels vector of shape (1, number of examples)\n",
    "    parameters -- python dictionary containing your parameters W1, b1, W2 and b2\n",
    "    \n",
    "    Returns:\n",
    "    cost -- cross-entropy cost given equation (13)\n",
    "    \"\"\"\n",
    "    \n",
    "    m = Y.shape[1] # number of example\n",
    "\n",
    "    # Compute the cross-entropy cost\n",
    "    ### START CODE HERE ### (≈ 2 lines of code)\n",
    "    \n",
    "    #этот вариант не работает, потому что cost оказывается типа np.ndarray\n",
    "    #и валится из-за assert\n",
    "    #cost = -(np.dot(np.log(A2), Y.transpose())+np.dot(np.log(1-A2), 1-Y.transpose()))/m \n",
    "    cost = -(np.sum(np.multiply(np.log(A2), Y) + np.multiply(np.log(1-A2), 1-Y)))/m\n",
    "    ### END CODE HERE ###\n",
    "    \n",
    "    cost = np.squeeze(cost)     # makes sure cost is the dimension we expect. \n",
    "                                # E.g., turns [[17]] into 17 \n",
    "    assert(isinstance(cost, float))\n",
    "    \n",
    "    return cost"
   ]
  },
  {
   "cell_type": "code",
   "execution_count": null,
   "metadata": {},
   "outputs": [],
   "source": []
  },
  {
   "cell_type": "code",
   "execution_count": 142,
   "metadata": {
    "colab": {
     "autoexec": {
      "startup": false,
      "wait_interval": 0
     }
    },
    "colab_type": "code",
    "id": "3pJKwdPWCeQG",
    "scrolled": true
   },
   "outputs": [
    {
     "name": "stdout",
     "output_type": "stream",
     "text": [
      "cost = 0.6929198937761266\n"
     ]
    }
   ],
   "source": [
    "A2, Y_assess, parameters = compute_cost_test_case()\n",
    "print(\"cost = \" + str(compute_cost(A2, Y_assess, parameters)))"
   ]
  },
  {
   "cell_type": "markdown",
   "metadata": {
    "colab_type": "text",
    "id": "A6rsil2eCeQS"
   },
   "source": [
    "**Expected Output**:\n",
    "<table style=\"width:20%\">\n",
    "  <tr>\n",
    "    <td>**cost**</td>\n",
    "    <td> 0.692919893776 </td> \n",
    "  </tr>\n",
    "  \n",
    "</table>"
   ]
  },
  {
   "cell_type": "markdown",
   "metadata": {
    "colab_type": "text",
    "id": "Emh2zsv2CeQU"
   },
   "source": [
    "Using the cache computed during forward propagation, you can now implement backward propagation.\n",
    "\n",
    "**Question**: Implement the function `backward_propagation()`.\n",
    "\n",
    "**Instructions**:\n",
    "Backpropagation is usually the hardest (most mathematical) part in deep learning. To help you, here again is the slide from the lecture on backpropagation. You'll want to use the six equations on the right of this slide, since you are building a vectorized implementation.  \n",
    "\n",
    "<img src=\"images/grad_summary.png\" style=\"width:600px;height:300px;\">\n",
    "\n",
    "<!--\n",
    "$\\frac{\\partial \\mathcal{J} }{ \\partial z_{2}^{(i)} } = \\frac{1}{m} (a^{[2](i)} - y^{(i)})$\n",
    "\n",
    "$\\frac{\\partial \\mathcal{J} }{ \\partial W_2 } = \\frac{\\partial \\mathcal{J} }{ \\partial z_{2}^{(i)} } a^{[1] (i) T} $\n",
    "\n",
    "$\\frac{\\partial \\mathcal{J} }{ \\partial b_2 } = \\sum_i{\\frac{\\partial \\mathcal{J} }{ \\partial z_{2}^{(i)}}}$\n",
    "\n",
    "$\\frac{\\partial \\mathcal{J} }{ \\partial z_{1}^{(i)} } =  W_2^T \\frac{\\partial \\mathcal{J} }{ \\partial z_{2}^{(i)} } * ( 1 - a^{[1] (i) 2}) $\n",
    "\n",
    "$\\frac{\\partial \\mathcal{J} }{ \\partial W_1 } = \\frac{\\partial \\mathcal{J} }{ \\partial z_{1}^{(i)} }  X^T $\n",
    "\n",
    "$\\frac{\\partial \\mathcal{J} _i }{ \\partial b_1 } = \\sum_i{\\frac{\\partial \\mathcal{J} }{ \\partial z_{1}^{(i)}}}$\n",
    "\n",
    "- Note that $*$ denotes elementwise multiplication.\n",
    "- The notation you will use is common in deep learning coding:\n",
    "    - dW1 = $\\frac{\\partial \\mathcal{J} }{ \\partial W_1 }$\n",
    "    - db1 = $\\frac{\\partial \\mathcal{J} }{ \\partial b_1 }$\n",
    "    - dW2 = $\\frac{\\partial \\mathcal{J} }{ \\partial W_2 }$\n",
    "    - db2 = $\\frac{\\partial \\mathcal{J} }{ \\partial b_2 }$\n",
    "    \n",
    "!-->\n",
    "\n",
    "- Tips:\n",
    "    - To compute dZ1 you'll need to compute $g^{[1]'}(Z^{[1]})$. Since $g^{[1]}(.)$ is the tanh activation function, if $a = g^{[1]}(z)$ then $g^{[1]'}(z) = 1-a^2$. So you can compute \n",
    "    $g^{[1]'}(Z^{[1]})$ using `(1 - np.power(A1, 2))`."
   ]
  },
  {
   "cell_type": "code",
   "execution_count": 143,
   "metadata": {
    "colab": {
     "autoexec": {
      "startup": false,
      "wait_interval": 0
     }
    },
    "colab_type": "code",
    "id": "7mgMSjPLCeQW"
   },
   "outputs": [],
   "source": [
    "def backward_propagation(parameters, cache, X, Y):\n",
    "    \"\"\"\n",
    "    Implement the backward propagation using the instructions above.\n",
    "    \n",
    "    Arguments:\n",
    "    parameters -- python dictionary containing our parameters \n",
    "    cache -- a dictionary containing \"Z1\", \"A1\", \"Z2\" and \"A2\".\n",
    "    X -- input data of shape (2, number of examples)\n",
    "    Y -- \"true\" labels vector of shape (1, number of examples)\n",
    "    \n",
    "    Returns:\n",
    "    grads -- python dictionary containing your gradients with respect to different parameters\n",
    "    \"\"\"\n",
    "    m = X.shape[1]\n",
    "    \n",
    "    # First, retrieve W1 and W2 from the dictionary \"parameters\".\n",
    "    ### START CODE HERE ### (≈ 2 lines of code)\n",
    "    W1 = parameters['W1']\n",
    "    W2 = parameters['W2']\n",
    "    ### END CODE HERE ###\n",
    "        \n",
    "    # Retrieve also A1 and A2 from dictionary \"cache\".\n",
    "    ### START CODE HERE ### (≈ 2 lines of code)\n",
    "    A1 = cache['A1']\n",
    "    A2 = cache['A2']\n",
    "    ### END CODE HERE ###\n",
    "    \n",
    "    # Backward propagation: calculate dW1, db1, dW2, db2. \n",
    "    ### START CODE HERE ### (≈ 6 lines of code, corresponding to 6 equations on slide above)\n",
    "    dZ2 = A2-Y\n",
    "    dW2 = np.matmul(dZ2, A1.transpose())/m\n",
    "    db2 = np.sum(dZ2, axis = 1, keepdims = True)/m\n",
    "    dZ1 = np.matmul(W2.transpose(), dZ2) * (1-np.power(A1, 2))\n",
    "    dW1 = np.matmul(dZ1, X.transpose())/m\n",
    "    db1 = np.sum(dZ1, axis = 1, keepdims = True)/m\n",
    "    ### END CODE HERE ###\n",
    "    \n",
    "    grads = {\"dW1\": dW1,\n",
    "             \"db1\": db1,\n",
    "             \"dW2\": dW2,\n",
    "             \"db2\": db2}\n",
    "    \n",
    "    return grads"
   ]
  },
  {
   "cell_type": "code",
   "execution_count": 144,
   "metadata": {
    "colab": {
     "autoexec": {
      "startup": false,
      "wait_interval": 0
     }
    },
    "colab_type": "code",
    "id": "NhKNeK8qCeQi"
   },
   "outputs": [
    {
     "name": "stdout",
     "output_type": "stream",
     "text": [
      "dW1 = [[ 0.01018708 -0.00708701]\n",
      " [ 0.00873447 -0.0060768 ]\n",
      " [-0.00530847  0.00369379]\n",
      " [-0.02206365  0.01535126]]\n",
      "db1 = [[-0.00069728]\n",
      " [-0.00060606]\n",
      " [ 0.000364  ]\n",
      " [ 0.00151207]]\n",
      "dW2 = [[ 0.00363613  0.03153604  0.01162914 -0.01318316]]\n",
      "db2 = [[0.06589489]]\n"
     ]
    }
   ],
   "source": [
    "parameters, cache, X_assess, Y_assess = backward_propagation_test_case()\n",
    "\n",
    "grads = backward_propagation(parameters, cache, X_assess, Y_assess)\n",
    "print (\"dW1 = \"+ str(grads[\"dW1\"]))\n",
    "print (\"db1 = \"+ str(grads[\"db1\"]))\n",
    "print (\"dW2 = \"+ str(grads[\"dW2\"]))\n",
    "print (\"db2 = \"+ str(grads[\"db2\"]))"
   ]
  },
  {
   "cell_type": "markdown",
   "metadata": {
    "colab_type": "text",
    "id": "BDNoezSRCeQm"
   },
   "source": [
    "**Expected output**:\n",
    "\n",
    "\n",
    "\n",
    "<table style=\"width:80%\">\n",
    "  <tr>\n",
    "    <td>**dW1**</td>\n",
    "    <td> [[ 0.01018708 -0.00708701]\n",
    " [ 0.00873447 -0.0060768 ]\n",
    " [-0.00530847  0.00369379]\n",
    " [-0.02206365  0.01535126]] </td> \n",
    "  </tr>\n",
    "  \n",
    "  <tr>\n",
    "    <td>**db1**</td>\n",
    "    <td>  [[-0.00069728]\n",
    " [-0.00060606]\n",
    " [ 0.000364  ]\n",
    " [ 0.00151207]] </td> \n",
    "  </tr>\n",
    "  \n",
    "  <tr>\n",
    "    <td>**dW2**</td>\n",
    "    <td> [[ 0.00363613  0.03153604  0.01162914 -0.01318316]] </td> \n",
    "  </tr>\n",
    "  \n",
    "\n",
    "  <tr>\n",
    "    <td>**db2**</td>\n",
    "    <td> [[ 0.06589489]] </td> \n",
    "  </tr>\n",
    "  \n",
    "</table>  "
   ]
  },
  {
   "cell_type": "markdown",
   "metadata": {
    "colab_type": "text",
    "id": "MpLTUO7aCeQo"
   },
   "source": [
    "**Question**: Implement the update rule. Use gradient descent. You have to use (dW1, db1, dW2, db2) in order to update (W1, b1, W2, b2).\n",
    "\n",
    "**General gradient descent rule**: $ \\theta = \\theta - \\alpha \\frac{\\partial J }{ \\partial \\theta }$ where $\\alpha$ is the learning rate and $\\theta$ represents a parameter.\n",
    "\n",
    "**Illustration**: The gradient descent algorithm with a good learning rate (converging) and a bad learning rate (diverging). Images courtesy of Adam Harley.\n",
    "\n",
    "<img src=\"images/sgd.gif\" style=\"width:400;height:400;\"> <img src=\"images/sgd_bad.gif\" style=\"width:400;height:400;\">\n",
    "\n"
   ]
  },
  {
   "cell_type": "code",
   "execution_count": 145,
   "metadata": {
    "colab": {
     "autoexec": {
      "startup": false,
      "wait_interval": 0
     }
    },
    "colab_type": "code",
    "id": "AjLze-89CeQq"
   },
   "outputs": [],
   "source": [
    "def update_parameters(parameters, grads, learning_rate = 1.2):\n",
    "    \"\"\"\n",
    "    Updates parameters using the gradient descent update rule given above\n",
    "    \n",
    "    Arguments:\n",
    "    parameters -- python dictionary containing your parameters \n",
    "    grads -- python dictionary containing your gradients \n",
    "    \n",
    "    Returns:\n",
    "    parameters -- python dictionary containing your updated parameters \n",
    "    \"\"\"\n",
    "    # Retrieve each parameter from the dictionary \"parameters\"\n",
    "    ### START CODE HERE ### (≈ 4 lines of code)\n",
    "    W1 = parameters['W1']\n",
    "    W2 = parameters['W2']\n",
    "    b1 = parameters['b1']\n",
    "    b2 = parameters['b2']\n",
    "    ### END CODE HERE ###\n",
    "    \n",
    "    # Retrieve each gradient from the dictionary \"grads\"\n",
    "    ### START CODE HERE ### (≈ 4 lines of code)\n",
    "    dW1 = grads['dW1']\n",
    "    dW2 = grads['dW2']\n",
    "    db1 = grads['db1']\n",
    "    db2 = grads['db2']\n",
    "    ## END CODE HERE ###\n",
    "    \n",
    "    # Update rule for each parameter\n",
    "    ### START CODE HERE ### (≈ 4 lines of code)\n",
    "    W1 = W1 - learning_rate * dW1\n",
    "    W2 = W2 - learning_rate * dW2\n",
    "    b1 = b1 - learning_rate * db1\n",
    "    b2 = b2 - learning_rate * db2\n",
    "    ### END CODE HERE ###\n",
    "    \n",
    "    parameters = {\"W1\": W1,\n",
    "                  \"b1\": b1,\n",
    "                  \"W2\": W2,\n",
    "                  \"b2\": b2}\n",
    "    \n",
    "    return parameters"
   ]
  },
  {
   "cell_type": "code",
   "execution_count": 146,
   "metadata": {
    "colab": {
     "autoexec": {
      "startup": false,
      "wait_interval": 0
     }
    },
    "colab_type": "code",
    "id": "WjP1QWQ-CeQu"
   },
   "outputs": [
    {
     "name": "stdout",
     "output_type": "stream",
     "text": [
      "W1 = [[-0.00643025  0.01936718]\n",
      " [-0.02410458  0.03978052]\n",
      " [-0.01653973 -0.02096177]\n",
      " [ 0.01046864 -0.05990141]]\n",
      "b1 = [[-1.02420756e-06]\n",
      " [ 1.27373948e-05]\n",
      " [ 8.32996807e-07]\n",
      " [-3.20136836e-06]]\n",
      "W2 = [[-0.01041081 -0.04463285  0.01758031  0.04747113]]\n",
      "b2 = [[0.00010457]]\n"
     ]
    }
   ],
   "source": [
    "parameters, grads = update_parameters_test_case()\n",
    "parameters = update_parameters(parameters, grads)\n",
    "\n",
    "print(\"W1 = \" + str(parameters[\"W1\"]))\n",
    "print(\"b1 = \" + str(parameters[\"b1\"]))\n",
    "print(\"W2 = \" + str(parameters[\"W2\"]))\n",
    "print(\"b2 = \" + str(parameters[\"b2\"]))"
   ]
  },
  {
   "cell_type": "markdown",
   "metadata": {
    "colab_type": "text",
    "id": "HcMzzlnZCeQ6"
   },
   "source": [
    "**Expected Output**:\n",
    "\n",
    "\n",
    "<table style=\"width:80%\">\n",
    "  <tr>\n",
    "    <td>**W1**</td>\n",
    "    <td> [[-0.00643025  0.01936718]\n",
    " [-0.02410458  0.03978052]\n",
    " [-0.01653973 -0.02096177]\n",
    " [ 0.01046864 -0.05990141]]</td> \n",
    "  </tr>\n",
    "  \n",
    "  <tr>\n",
    "    <td>**b1**</td>\n",
    "    <td> [[ -1.02420756e-06]\n",
    " [  1.27373948e-05]\n",
    " [  8.32996807e-07]\n",
    " [ -3.20136836e-06]]</td> \n",
    "  </tr>\n",
    "  \n",
    "  <tr>\n",
    "    <td>**W2**</td>\n",
    "    <td> [[-0.01041081 -0.04463285  0.01758031  0.04747113]] </td> \n",
    "  </tr>\n",
    "  \n",
    "\n",
    "  <tr>\n",
    "    <td>**b2**</td>\n",
    "    <td> [[ 0.00010457]] </td> \n",
    "  </tr>\n",
    "  \n",
    "</table>  "
   ]
  },
  {
   "cell_type": "markdown",
   "metadata": {
    "colab_type": "text",
    "id": "_5Gu6VeDCeQ8"
   },
   "source": [
    "### 4.4 - Integrate parts 4.1, 4.2 and 4.3 in nn_model() ####\n",
    "\n",
    "**Question**: Build your neural network model in `nn_model()`.\n",
    "\n",
    "**Instructions**: The neural network model has to use the previous functions in the right order."
   ]
  },
  {
   "cell_type": "code",
   "execution_count": 147,
   "metadata": {
    "colab": {
     "autoexec": {
      "startup": false,
      "wait_interval": 0
     }
    },
    "colab_type": "code",
    "id": "CyVMV0ERCeRA"
   },
   "outputs": [],
   "source": [
    "# GRADED FUNCTION: nn_model\n",
    "\n",
    "def nn_model(X, Y, n_h, num_iterations = 10000, print_cost=False):\n",
    "    \"\"\"\n",
    "    Arguments:\n",
    "    X -- dataset of shape (2, number of examples)\n",
    "    Y -- labels of shape (1, number of examples)\n",
    "    n_h -- size of the hidden layer\n",
    "    num_iterations -- Number of iterations in gradient descent loop\n",
    "    print_cost -- if True, print the cost every 1000 iterations\n",
    "    \n",
    "    Returns:\n",
    "    parameters -- parameters learnt by the model. They can then be used to predict.\n",
    "    \"\"\"\n",
    "    \n",
    "    np.random.seed(3)\n",
    "    n_x = layer_sizes(X, Y)[0]\n",
    "    n_y = layer_sizes(X, Y)[2]\n",
    "    \n",
    "    # Initialize parameters, then retrieve W1, b1, W2, b2. Inputs: \"n_x, n_h, n_y\". Outputs = \"W1, b1, W2, b2, parameters\".\n",
    "    ### START CODE HERE ### (≈ 5 lines of code)\n",
    "    parameters = initialize_parameters(n_x, n_h, n_y)\n",
    "    W1 = parameters['W1']\n",
    "    W2 = parameters['W2']\n",
    "    b1 = parameters['b1']\n",
    "    b2 = parameters['b2']\n",
    "    ### END CODE HERE ###\n",
    "    \n",
    "    # Loop (gradient descent)\n",
    "\n",
    "    for i in range(0, num_iterations):\n",
    "         \n",
    "        ### START CODE HERE ### (≈ 4 lines of code)\n",
    "        # Forward propagation. Inputs: \"X, parameters\". Outputs: \"A2, cache\".\n",
    "        A2, cache = forward_propagation(X, parameters)\n",
    "        # Cost function. Inputs: \"A2, Y, parameters\". Outputs: \"cost\".\n",
    "        cost = compute_cost(A2, Y, parameters)\n",
    "        # Backpropagation. Inputs: \"parameters, cache, X, Y\". Outputs: \"grads\".\n",
    "        grads = backward_propagation(parameters, cache, X, Y)\n",
    "        # Gradient descent parameter update. Inputs: \"parameters, grads\". Outputs: \"parameters\".\n",
    "        parameters = update_parameters(parameters, grads)\n",
    "        ### END CODE HERE ###\n",
    "        \n",
    "        # Print the cost every 1000 iterations\n",
    "        #if print_cost and i % 1000 == 0:\n",
    "        #    print (\"Cost after iteration %i: %f\" %(i, cost))\n",
    "\n",
    "    return parameters"
   ]
  },
  {
   "cell_type": "code",
   "execution_count": 163,
   "metadata": {
    "colab": {
     "autoexec": {
      "startup": false,
      "wait_interval": 0
     }
    },
    "colab_type": "code",
    "id": "4hdaP02cCeRG"
   },
   "outputs": [
    {
     "name": "stderr",
     "output_type": "stream",
     "text": [
      "/home/petr/anaconda3/lib/python3.7/site-packages/ipykernel_launcher.py:22: RuntimeWarning: divide by zero encountered in log\n"
     ]
    },
    {
     "name": "stdout",
     "output_type": "stream",
     "text": [
      "W1 = [[-4.18493607  5.33220954]\n",
      " [-7.52989398  1.24306172]\n",
      " [-4.19294692  5.32632315]\n",
      " [ 7.52983649 -1.24309466]]\n",
      "b1 = [[ 2.32926741]\n",
      " [ 3.7945897 ]\n",
      " [ 2.33002464]\n",
      " [-3.79468985]]\n",
      "W2 = [[-6033.83672369 -6008.12980524 -6033.10095541  6008.06638241]]\n",
      "b2 = [[-52.66607531]]\n"
     ]
    }
   ],
   "source": [
    "X_assess, Y_assess = nn_model_test_case()\n",
    "\n",
    "parameters = nn_model(X_assess, Y_assess, 4, num_iterations=10000, print_cost=False)\n",
    "print(\"W1 = \" + str(parameters[\"W1\"]))\n",
    "print(\"b1 = \" + str(parameters[\"b1\"]))\n",
    "print(\"W2 = \" + str(parameters[\"W2\"]))\n",
    "print(\"b2 = \" + str(parameters[\"b2\"]))"
   ]
  },
  {
   "cell_type": "markdown",
   "metadata": {
    "colab_type": "text",
    "id": "SMyZ8j7XCeRS"
   },
   "source": [
    "**Expected Output**:\n",
    "\n",
    "<table style=\"width:90%\">\n",
    "  <tr>\n",
    "    <td>**W1**</td>\n",
    "    <td> [[-4.18494056  5.33220609]\n",
    " [-7.52989382  1.24306181]\n",
    " [-4.1929459   5.32632331]\n",
    " [ 7.52983719 -1.24309422]]</td> \n",
    "  </tr>\n",
    "  \n",
    "  <tr>\n",
    "    <td>**b1**</td>\n",
    "    <td> [[ 2.32926819]\n",
    " [ 3.79458998]\n",
    " [ 2.33002577]\n",
    " [-3.79468846]]</td> \n",
    "  </tr>\n",
    "  \n",
    "  <tr>\n",
    "    <td>**W2**</td>\n",
    "    <td> [[-6033.83672146 -6008.12980822 -6033.10095287  6008.06637269]] </td> \n",
    "  </tr>\n",
    "  \n",
    "\n",
    "  <tr>\n",
    "    <td>**b2**</td>\n",
    "    <td> [[-52.66607724]] </td> \n",
    "  </tr>\n",
    "  \n",
    "</table>  "
   ]
  },
  {
   "cell_type": "markdown",
   "metadata": {
    "colab_type": "text",
    "id": "NH-9qO_YCeRU"
   },
   "source": [
    "### 4.5 Predictions\n",
    "\n",
    "**Question**: Use your model to predict by building predict().\n",
    "Use forward propagation to predict results.\n",
    "\n",
    "**Reminder**: predictions = $y_{prediction} = \\mathbb 1 \\text{{activation > 0.5}} = \\begin{cases}\n",
    "      1 & \\text{if}\\ activation > 0.5 \\\\\n",
    "      0 & \\text{otherwise}\n",
    "    \\end{cases}$  \n",
    "    \n",
    "As an example, if you would like to set the entries of a matrix X to 0 and 1 based on a threshold you would do: ```X_new = (X > threshold)```"
   ]
  },
  {
   "cell_type": "code",
   "execution_count": 149,
   "metadata": {
    "colab": {
     "autoexec": {
      "startup": false,
      "wait_interval": 0
     }
    },
    "colab_type": "code",
    "id": "BqoEZOhHCeRW"
   },
   "outputs": [],
   "source": [
    "# GRADED FUNCTION: predict\n",
    "\n",
    "def predict(parameters, X):\n",
    "    \"\"\"\n",
    "    Using the learned parameters, predicts a class for each example in X\n",
    "    \n",
    "    Arguments:\n",
    "    parameters -- python dictionary containing your parameters \n",
    "    X -- input data of size (n_x, m)\n",
    "    \n",
    "    Returns\n",
    "    predictions -- vector of predictions of our model (red: 0 / blue: 1)\n",
    "    \"\"\"\n",
    "    \n",
    "    # Computes probabilities using forward propagation, and classifies to 0/1 using 0.5 as the threshold.\n",
    "    ### START CODE HERE ### (≈ 2 lines of code)\n",
    "    predictions = sigmoid(np.matmul(parameters['W2'],np.tanh(np.matmul(parameters['W1'],X)+parameters['b1']))+parameters['b2']) > 0.5\n",
    "    ### END CODE HERE ###\n",
    "    \n",
    "    return predictions"
   ]
  },
  {
   "cell_type": "code",
   "execution_count": null,
   "metadata": {},
   "outputs": [],
   "source": []
  },
  {
   "cell_type": "code",
   "execution_count": 164,
   "metadata": {
    "colab": {
     "autoexec": {
      "startup": false,
      "wait_interval": 0
     }
    },
    "colab_type": "code",
    "id": "hoxWdHz1CeRi"
   },
   "outputs": [
    {
     "name": "stdout",
     "output_type": "stream",
     "text": [
      "predictions mean = 0.6666666666666666\n"
     ]
    }
   ],
   "source": [
    "parameters, X_assess = predict_test_case()\n",
    "\n",
    "predictions = predict(parameters, X_assess)\n",
    "print(\"predictions mean = \" + str(np.mean(predictions)))"
   ]
  },
  {
   "cell_type": "markdown",
   "metadata": {
    "colab_type": "text",
    "id": "cVEEMveUCeRo"
   },
   "source": [
    "**Expected Output**: \n",
    "\n",
    "\n",
    "<table style=\"width:40%\">\n",
    "  <tr>\n",
    "    <td>**predictions mean**</td>\n",
    "    <td> 0.666666666667 </td> \n",
    "  </tr>\n",
    "  \n",
    "</table>"
   ]
  },
  {
   "cell_type": "markdown",
   "metadata": {
    "colab_type": "text",
    "id": "JVGrW5-SCeRq"
   },
   "source": [
    "It is time to run the model and see how it performs on a planar dataset. Run the following code to test your model with a single hidden layer of $n_h$ hidden units."
   ]
  },
  {
   "cell_type": "code",
   "execution_count": 165,
   "metadata": {
    "colab": {
     "autoexec": {
      "startup": false,
      "wait_interval": 0
     }
    },
    "colab_type": "code",
    "id": "zc1QQpPqCeRq"
   },
   "outputs": [
    {
     "data": {
      "text/plain": [
       "Text(0.5, 1.0, 'Decision Boundary for hidden layer size 4')"
      ]
     },
     "execution_count": 165,
     "metadata": {},
     "output_type": "execute_result"
    },
    {
     "data": {
      "image/png": "[encoded data removed]",
      "text/plain": [
       "<Figure size 432x288 with 1 Axes>"
      ]
     },
     "metadata": {
      "needs_background": "light"
     },
     "output_type": "display_data"
    }
   ],
   "source": [
    "# Build a model with a n_h-dimensional hidden layer\n",
    "parameters = nn_model(X, Y, n_h = 4, num_iterations = 10000, print_cost=True)\n",
    "\n",
    "# Plot the decision boundary\n",
    "plot_decision_boundary(lambda x: predict(parameters, x.T), X, Y.reshape(400))\n",
    "plt.title(\"Decision Boundary for hidden layer size \" + str(4))"
   ]
  },
  {
   "cell_type": "markdown",
   "metadata": {
    "colab_type": "text",
    "id": "DRTP3XOgCeRu"
   },
   "source": [
    "**Expected Output**:\n",
    "\n",
    "<table style=\"width:40%\">\n",
    "  <tr>\n",
    "    <td>**Cost after iteration 9000**</td>\n",
    "    <td> 0.218607 </td> \n",
    "  </tr>\n",
    "  \n",
    "</table>\n"
   ]
  },
  {
   "cell_type": "code",
   "execution_count": 166,
   "metadata": {
    "colab": {
     "autoexec": {
      "startup": false,
      "wait_interval": 0
     }
    },
    "colab_type": "code",
    "id": "mQ5jPc_2CeRu"
   },
   "outputs": [
    {
     "name": "stdout",
     "output_type": "stream",
     "text": [
      "Accuracy: 90%\n"
     ]
    }
   ],
   "source": [
    "# Print accuracy\n",
    "predictions = predict(parameters, X)\n",
    "print ('Accuracy: %d' % float((np.dot(Y,predictions.T) + np.dot(1-Y,1-predictions.T))/float(Y.size)*100) + '%')"
   ]
  },
  {
   "cell_type": "markdown",
   "metadata": {
    "colab_type": "text",
    "id": "xxqd-471CeRy"
   },
   "source": [
    "**Expected Output**: \n",
    "\n",
    "<table style=\"width:15%\">\n",
    "  <tr>\n",
    "    <td>**Accuracy**</td>\n",
    "    <td> 90% </td> \n",
    "  </tr>\n",
    "</table>"
   ]
  },
  {
   "cell_type": "markdown",
   "metadata": {
    "colab_type": "text",
    "id": "rf2CHGdYCeR0"
   },
   "source": [
    "Accuracy is really high compared to Logistic Regression. The model has learnt the leaf patterns of the flower! Neural networks are able to learn even highly non-linear decision boundaries, unlike logistic regression. \n",
    "\n",
    "Now, let's try out several hidden layer sizes."
   ]
  },
  {
   "cell_type": "markdown",
   "metadata": {
    "colab_type": "text",
    "id": "-0lo3B-rCeR0"
   },
   "source": [
    "### 4.6 - Tuning hidden layer size (optional) ###\n",
    "\n",
    "Run the following code. It may take 1-2 minutes. You will observe different behaviors of the model for various hidden layer sizes."
   ]
  },
  {
   "cell_type": "code",
   "execution_count": 169,
   "metadata": {
    "colab": {
     "autoexec": {
      "startup": false,
      "wait_interval": 0
     }
    },
    "colab_type": "code",
    "id": "lWqR8Iu1CeR4"
   },
   "outputs": [
    {
     "name": "stdout",
     "output_type": "stream",
     "text": [
      "Accuracy for 1 hidden units: 67.5 %\n",
      "Accuracy for 2 hidden units: 67.25 %\n",
      "Accuracy for 3 hidden units: 90.75 %\n",
      "Accuracy for 4 hidden units: 90.5 %\n",
      "Accuracy for 5 hidden units: 91.25 %\n",
      "Accuracy for 20 hidden units: 90.5 %\n",
      "Accuracy for 50 hidden units: 90.75 %\n"
     ]
    },
    {
     "data": {
      "image/png": "[encoded data removed]",
      "text/plain": [
       "<Figure size 1152x2304 with 7 Axes>"
      ]
     },
     "metadata": {
      "needs_background": "light"
     },
     "output_type": "display_data"
    }
   ],
   "source": [
    "# This may take about 2 minutes to run\n",
    "\n",
    "plt.figure(figsize=(16, 32))\n",
    "hidden_layer_sizes = [1, 2, 3, 4, 5, 20, 50]\n",
    "for i, n_h in enumerate(hidden_layer_sizes):\n",
    "    plt.subplot(5, 2, i+1)\n",
    "    plt.title('Hidden Layer of size %d' % n_h)\n",
    "    parameters = nn_model(X, Y, n_h, num_iterations = 5000)\n",
    "    #plot_decision_boundary(lambda x: predict(parameters, x.T), X, Y)\n",
    "    predictions = predict(parameters, X)\n",
    "    accuracy = float((np.dot(Y,predictions.T) + np.dot(1-Y,1-predictions.T))/float(Y.size)*100)\n",
    "    print (\"Accuracy for {} hidden units: {} %\".format(n_h, accuracy))"
   ]
  },
  {
   "cell_type": "markdown",
   "metadata": {
    "colab_type": "text",
    "id": "S1J8qN4_CeR8"
   },
   "source": [
    "**Interpretation**:\n",
    "- The larger models (with more hidden units) are able to fit the training set better, until eventually the largest models overfit the data. \n",
    "- The best hidden layer size seems to be around n_h = 5. Indeed, a value around here seems to  fits the data well without also incurring noticable overfitting.\n",
    "- You will also learn later about regularization, which lets you use very large models (such as n_h = 50) without much overfitting. "
   ]
  },
  {
   "cell_type": "markdown",
   "metadata": {
    "colab_type": "text",
    "id": "ruoG5pmOCeR-"
   },
   "source": [
    "**Optional questions**:\n",
    "\n",
    "Some optional questions that you can explore if you wish: \n",
    "- What happens when you change the tanh activation for a sigmoid activation or a ReLU activation?\n",
    "- What if we change the dataset? (See part 5 below!)"
   ]
  },
  {
   "cell_type": "markdown",
   "metadata": {
    "colab_type": "text",
    "id": "-Vxmrh5VCeR-"
   },
   "source": [
    "<font color='blue'>\n",
    "**You've learnt to:**\n",
    "- Build a complete neural network with a hidden layer\n",
    "- Make a good use of a non-linear unit\n",
    "- Implemented forward propagation and backpropagation, and trained a neural network\n",
    "- See the impact of varying the hidden layer size, including overfitting."
   ]
  },
  {
   "cell_type": "markdown",
   "metadata": {
    "colab_type": "text",
    "id": "lFQn-xIfCeSA"
   },
   "source": [
    "Nice work! "
   ]
  },
  {
   "cell_type": "markdown",
   "metadata": {
    "colab_type": "text",
    "id": "BYe5D8JUCeSC"
   },
   "source": [
    "## 5) Performance on other datasets"
   ]
  },
  {
   "cell_type": "markdown",
   "metadata": {
    "colab_type": "text",
    "id": "n61siLXjCeSE"
   },
   "source": [
    "If you want, you can rerun the whole notebook (minus the dataset part) for each of the following datasets."
   ]
  },
  {
   "cell_type": "code",
   "execution_count": 127,
   "metadata": {
    "colab": {
     "autoexec": {
      "startup": false,
      "wait_interval": 0
     }
    },
    "colab_type": "code",
    "id": "bCeHw9dOCeSE"
   },
   "outputs": [
    {
     "data": {
      "image/png": "[encoded data removed]",
      "text/plain": [
       "<Figure size 432x288 with 1 Axes>"
      ]
     },
     "metadata": {
      "needs_background": "light"
     },
     "output_type": "display_data"
    }
   ],
   "source": [
    "# Datasets\n",
    "noisy_circles, noisy_moons, blobs, gaussian_quantiles, no_structure = load_extra_datasets()\n",
    "\n",
    "datasets = {\"noisy_circles\": noisy_circles,\n",
    "            \"noisy_moons\": noisy_moons,\n",
    "            \"blobs\": blobs,\n",
    "            \"gaussian_quantiles\": gaussian_quantiles}\n",
    "\n",
    "### START CODE HERE ### (choose your dataset)\n",
    "dataset = \"noisy_moons\"\n",
    "### END CODE HERE ###\n",
    "\n",
    "X, Y = datasets[dataset]\n",
    "X = X.T\n",
    "\n",
    "# make blobs binary\n",
    "if dataset == \"blobs\":\n",
    "    Y = Y%2\n",
    "\n",
    "# Visualize the data\n",
    "plt.scatter(X[0, :], X[1, :], c=Y, s=40, cmap=plt.cm.Spectral);"
   ]
  }
 ],
 "metadata": {
  "colab": {
   "collapsed_sections": [],
   "default_view": {},
   "name": "BuiltNN.ipynb",
   "provenance": [],
   "version": "0.3.2",
   "views": {}
  },
  "kernelspec": {
   "display_name": "Python 3",
   "language": "python",
   "name": "python3"
  },
  "language_info": {
   "codemirror_mode": {
    "name": "ipython",
    "version": 3
   },
   "file_extension": ".py",
   "mimetype": "text/x-python",
   "name": "python",
   "nbconvert_exporter": "python",
   "pygments_lexer": "ipython3",
   "version": "3.7.3"
  }
 },
 "nbformat": 4,
 "nbformat_minor": 1
}
