{
 "cells": [
  {
   "cell_type": "code",
   "execution_count": null,
   "metadata": {},
   "outputs": [],
   "source": [
    "#Обобщённый закон изменения курса\n",
    "class rateRule:\n",
    "    #getRate(val, state) --- количество валюты которую вернём за val\n",
    "    #updState(val, state)\n",
    "    def __init__(getRate, updState, initState): \n",
    "        self._rule = rule\n",
    "        self._state = initState\n",
    "    def update():\n",
    "        pass\n",
    "    def \n",
    "\n",
    "#Абстракный обменник\n",
    "class exchanger:\n",
    "    def __init__(rateRule):\n",
    "        pass\n",
    "    def update(): #обновление состояния обменника\n",
    "        pass\n",
    "    def getCost(val): #получить стоимость\n",
    "        pass\n",
    "    def exchange(val):\n",
    "        pass"
   ]
  }
 ],
 "metadata": {
  "kernelspec": {
   "display_name": "Python 3",
   "language": "python",
   "name": "python3"
  },
  "language_info": {
   "codemirror_mode": {
    "name": "ipython",
    "version": 3
   },
   "file_extension": ".py",
   "mimetype": "text/x-python",
   "name": "python",
   "nbconvert_exporter": "python",
   "pygments_lexer": "ipython3",
   "version": "3.7.3"
  }
 },
 "nbformat": 4,
 "nbformat_minor": 2
}
